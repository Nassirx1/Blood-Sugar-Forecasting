{
  "nbformat": 4,
  "nbformat_minor": 0,
  "metadata": {
    "colab": {
      "provenance": []
    },
    "kernelspec": {
      "name": "python3",
      "display_name": "Python 3"
    },
    "language_info": {
      "name": "python"
    }
  },
  "cells": [
    {
      "cell_type": "code",
      "execution_count": null,
      "metadata": {
        "id": "2LDQQ1EI1cpf"
      },
      "outputs": [],
      "source": [
        "import pandas as pd\n",
        "import numpy as np\n",
        "import matplotlib.pyplot as plt"
      ]
    },
    {
      "cell_type": "code",
      "source": [
        "df = pd.read_csv(\"/content/sensor 3 data.csv\", delimiter=\";\")\n",
        "df"
      ],
      "metadata": {
        "id": "kYtdqm5c1y1p"
      },
      "execution_count": null,
      "outputs": []
    },
    {
      "cell_type": "code",
      "source": [
        "df2 = pd.read_csv(\"/content/pump 3 data.csv\", delimiter=\";\")\n",
        "df2"
      ],
      "metadata": {
        "id": "cbDlmB7x2Tkx"
      },
      "execution_count": null,
      "outputs": []
    },
    {
      "cell_type": "code",
      "source": [
        "df3 = df.drop(columns=['New Device Time', 'Index', 'BG Source', 'BG Reading (mg/dL)', 'Linked BG Meter ID', 'Basal Rate (U/h)', 'Temp Basal Amount', 'Temp Basal Type', 'Temp Basal Duration (h:mm:ss)', 'Bolus Type', 'Bolus Volume Selected (U)', 'Bolus Duration (h:mm:ss)', 'Prime Type', 'Prime Volume Delivered (U)', 'Alarm', 'Suspend', 'Rewind', 'BWZ Estimate (U)', 'BWZ Target High BG (mg/dL)', 'BWZ Target Low BG (mg/dL)', 'BWZ Insulin Sensitivity (mg/dL/U)', 'BWZ BG/SG Input (mg/dL)', 'BWZ Correction Estimate (U)', 'BWZ Food Estimate (U)', 'BWZ Active Insulin (U)', 'BWZ Status', 'Sensor Calibration BG (mg/dL)', 'Event Marker', 'Bolus Number', 'Bolus Cancellation Reason', 'BWZ Unabsorbed Insulin Total (U)', 'Final Bolus Estimate', 'Scroll Step Size', 'Insulin Action Curve Time', 'Sensor Calibration Rejected Reason', 'Preset Bolus', 'Bolus Source', 'BLE Network Device', 'Device Update Event', 'Network Device Associated Reason', 'Network Device Disassociated Reason', 'Network Device Disconnected Reason', 'Sensor Exception', 'Preset Temp Basal Name'])\n",
        "df3"
      ],
      "metadata": {
        "id": "G3GlBvgp2cqh"
      },
      "execution_count": null,
      "outputs": []
    },
    {
      "cell_type": "code",
      "source": [
        "df4 = df2.drop(columns=['New Device Time', 'Index', 'BG Source', 'BG Reading (mg/dL)', 'Linked BG Meter ID', 'Basal Rate (U/h)', 'Temp Basal Amount', 'Temp Basal Type', 'Temp Basal Duration (h:mm:ss)', 'Bolus Type', 'Bolus Volume Selected (U)', 'Bolus Duration (h:mm:ss)', 'Prime Type', 'Prime Volume Delivered (U)', 'Alarm', 'Suspend', 'Rewind', 'BWZ Estimate (U)', 'BWZ Target High BG (mg/dL)', 'BWZ Target Low BG (mg/dL)', 'BWZ Insulin Sensitivity (mg/dL/U)', 'BWZ BG/SG Input (mg/dL)', 'BWZ Correction Estimate (U)', 'BWZ Food Estimate (U)', 'BWZ Active Insulin (U)', 'BWZ Status', 'Sensor Calibration BG (mg/dL)', 'Event Marker', 'Bolus Number', 'Bolus Cancellation Reason', 'BWZ Unabsorbed Insulin Total (U)', 'Final Bolus Estimate', 'Scroll Step Size', 'Insulin Action Curve Time', 'Sensor Calibration Rejected Reason', 'Preset Bolus', 'Bolus Source', 'BLE Network Device', 'Device Update Event', 'Network Device Associated Reason', 'Network Device Disassociated Reason', 'Network Device Disconnected Reason', 'Sensor Exception', 'Preset Temp Basal Name'])\n",
        "df4= df4.iloc[:20934]\n",
        "df4"
      ],
      "metadata": {
        "id": "wf6UyPk-2ldB"
      },
      "execution_count": null,
      "outputs": []
    },
    {
      "cell_type": "code",
      "source": [
        "df3['datetime'] = pd.to_datetime(df3['Date'] + ' ' + df3['Time'])\n",
        "\n",
        "\n",
        "df3.drop(columns=['Date', 'Time'], inplace=True)\n",
        "df3"
      ],
      "metadata": {
        "id": "rdeP2RSN2tER"
      },
      "execution_count": null,
      "outputs": []
    },
    {
      "cell_type": "code",
      "source": [
        "df4['datetime'] = pd.to_datetime(df4['Date'] + ' ' + df4['Time'])\n",
        "\n",
        "df4.drop(columns=['Date', 'Time'], inplace=True)\n",
        "df4"
      ],
      "metadata": {
        "id": "BbxR67b62z8h"
      },
      "execution_count": null,
      "outputs": []
    },
    {
      "cell_type": "code",
      "source": [
        "df3 = df3.sort_values(by='datetime')\n",
        "df4 = df4.sort_values(by='datetime')\n",
        "df3_indexed = df3.set_index('datetime')\n",
        "df4_indexed = df4.set_index('datetime')\n",
        "df5 = df3_indexed.join(df4_indexed, how='outer', lsuffix='_df3', rsuffix='_df4')\n",
        "df5"
      ],
      "metadata": {
        "id": "tx9dKIFu24Iw"
      },
      "execution_count": null,
      "outputs": []
    },
    {
      "cell_type": "code",
      "source": [
        "df5 = df5.drop(columns=['Bolus Volume Delivered (U)_df3', 'BWZ Carb Ratio (g/U)_df3', 'BWZ Carb Input (grams)_df3', 'Sensor Glucose (mg/dL)_df4', 'ISIG Value_df4'])\n",
        "df5"
      ],
      "metadata": {
        "id": "xk8gyfL729OZ"
      },
      "execution_count": null,
      "outputs": []
    },
    {
      "cell_type": "code",
      "source": [],
      "metadata": {
        "id": "n5xUf1wH3QMw"
      },
      "execution_count": null,
      "outputs": []
    },
    {
      "cell_type": "code",
      "source": [
        "df5[\"Sensor Glucose (mg/dL)_df3\"] = df5[\"Sensor Glucose (mg/dL)_df3\"].fillna(method=\"ffill\")\n",
        "df5[\"ISIG Value_df3\"] = df5[\"ISIG Value_df3\"].fillna(method=\"ffill\")\n",
        "df5[\"BWZ Carb Ratio (g/U)_df4\"] = df5[\"BWZ Carb Ratio (g/U)_df4\"].fillna(method=\"ffill\")\n"
      ],
      "metadata": {
        "id": "Ex2X9HSe3W_Z"
      },
      "execution_count": null,
      "outputs": []
    },
    {
      "cell_type": "code",
      "source": [
        "df5"
      ],
      "metadata": {
        "id": "eWmmWDWp3Y0R"
      },
      "execution_count": null,
      "outputs": []
    },
    {
      "cell_type": "code",
      "source": [
        "df5[\"BWZ Carb Ratio (g/U)_df4\"] = df5[\"BWZ Carb Ratio (g/U)_df4\"].fillna(method=\"bfill\")\n",
        "df5"
      ],
      "metadata": {
        "id": "BVLq4R-t3c4I"
      },
      "execution_count": null,
      "outputs": []
    },
    {
      "cell_type": "code",
      "source": [
        "df5[\"Bolus Volume Delivered (U)_df4\"] = df5[\"Bolus Volume Delivered (U)_df4\"].fillna(0)\n",
        "df5[\"BWZ Carb Input (grams)_df4\"] = df5[\"BWZ Carb Input (grams)_df4\"].fillna(0)\n",
        "df5"
      ],
      "metadata": {
        "id": "woUMCuFV3ikI"
      },
      "execution_count": null,
      "outputs": []
    },
    {
      "cell_type": "code",
      "source": [
        "df5 = df5.iloc[1:]\n",
        "df5"
      ],
      "metadata": {
        "id": "IRYiJi1q3msZ"
      },
      "execution_count": null,
      "outputs": []
    },
    {
      "cell_type": "code",
      "source": [
        "df5.describe()\n"
      ],
      "metadata": {
        "id": "2SGA3zSPaRRW"
      },
      "execution_count": null,
      "outputs": []
    },
    {
      "cell_type": "code",
      "source": [
        "\n"
      ],
      "metadata": {
        "id": "t6YpjciUas8O"
      },
      "execution_count": null,
      "outputs": []
    },
    {
      "cell_type": "code",
      "source": [
        "from statsmodels.graphics.tsaplots import plot_acf, plot_pacf\n",
        "import matplotlib.pyplot as plt\n",
        "plt.figure(figsize=(12, 6))\n",
        "plot_acf(df5['Sensor Glucose (mg/dL)_df3'], lags=30, title='Autocorrelation of glucose')\n",
        "plt.show()\n",
        "\n",
        "\n",
        "plt.figure(figsize=(12, 6))\n",
        "plot_pacf(df5['Sensor Glucose (mg/dL)_df3'], lags=30, title='Partial Autocorrelation of glucose')\n",
        "plt.show()"
      ],
      "metadata": {
        "id": "f6ZqTNDq3oRB"
      },
      "execution_count": null,
      "outputs": []
    },
    {
      "cell_type": "code",
      "source": [
        "import matplotlib.pyplot as plt\n",
        "import seaborn as sns\n",
        "correlation_matrix = df5.corr()\n",
        "\n",
        "plt.figure(figsize=(12, 8))\n",
        "sns.heatmap(correlation_matrix, annot=True, cmap='coolwarm', vmin=-1, vmax=1)\n",
        "plt.title('Correlation Matrix')\n",
        "plt.show()\n"
      ],
      "metadata": {
        "id": "XAr0fWkQ37pZ"
      },
      "execution_count": null,
      "outputs": []
    },
    {
      "cell_type": "code",
      "source": [
        "import pandas as pd\n",
        "import numpy as np\n",
        "import matplotlib.pyplot as plt\n",
        "from xgboost import XGBRegressor\n",
        "from sklearn.model_selection import train_test_split\n",
        "from sklearn.metrics import mean_squared_error\n",
        "\n",
        "\n",
        "df5['time_diff'] = df5.index.to_series().diff().dt.total_seconds()\n",
        "\n",
        "\n",
        "df5['cumulative_time'] = df5['time_diff'].cumsum()\n",
        "\n",
        "\n",
        "df5['target'] = df5['Sensor Glucose (mg/dL)_df3'].shift(-1)\n",
        "for i in range(1, len(df5)):\n",
        "    if df5['cumulative_time'].iloc[i] >= 3600:\n",
        "        df5['target'].iloc[i-1] = df5['Sensor Glucose (mg/dL)_df3'].iloc[i]\n",
        "        df5['cumulative_time'] = df5['cumulative_time'] - 3600\n",
        "\n",
        "\n",
        "df5 = df5.dropna()\n",
        "\n",
        "\n",
        "\n",
        "for lag in range(1, 31):\n",
        "    df5.loc[:, f'lag_{lag}'] = df5['Sensor Glucose (mg/dL)_df3'].shift(lag)\n",
        "\n",
        "\n",
        "df5 = df5.dropna()\n",
        "\n",
        "additional_features = ['ISIG Value_df3', 'Bolus Volume Delivered (U)_df4', 'BWZ Carb Ratio (g/U)_df4', 'BWZ Carb Input (grams)_df4']\n",
        "\n",
        "\n",
        "X = df5[[f'lag_{i}' for i in range(1, 31)] + additional_features]\n",
        "y = df5['target']\n",
        "\n",
        "\n",
        "X_train, X_test, y_train, y_test = train_test_split(X, y, test_size=0.2, shuffle=False)\n",
        "\n",
        "\n",
        "model = XGBRegressor(objective='reg:squarederror')\n",
        "model.fit(X_train, y_train)\n",
        "\n",
        "\n",
        "train_pred = model.predict(X_train)\n",
        "test_pred = model.predict(X_test)\n",
        "\n",
        "\n",
        "train_rmse = np.sqrt(mean_squared_error(y_train, train_pred))\n",
        "test_rmse = np.sqrt(mean_squared_error(y_test, test_pred))\n",
        "\n",
        "print(f\"Train RMSE: {train_rmse}\")\n",
        "print(f\"Test RMSE: {test_rmse}\")\n",
        "\n",
        "\n",
        "plt.figure(figsize=(12, 6))\n",
        "plt.plot(y_test.values, label=\"True Values\", color=\"blue\")\n",
        "plt.plot(test_pred, label=\"Predictions\", color=\"red\", alpha=0.7)\n",
        "plt.title(\"True Values vs Predictions\")\n",
        "plt.xlabel(\"Time\")\n",
        "plt.ylabel(\"Sensor Glucose (mg/dL)\")\n",
        "plt.legend()\n",
        "plt.show()"
      ],
      "metadata": {
        "id": "Lhf2VqRL4IUp"
      },
      "execution_count": null,
      "outputs": []
    },
    {
      "cell_type": "markdown",
      "source": [],
      "metadata": {
        "id": "wOLXKWCfCChb"
      }
    },
    {
      "cell_type": "code",
      "source": [],
      "metadata": {
        "id": "yviEmIJ7aDJV"
      },
      "execution_count": null,
      "outputs": []
    },
    {
      "cell_type": "code",
      "source": [
        "\n"
      ],
      "metadata": {
        "id": "ynuepDqjZsBE"
      },
      "execution_count": null,
      "outputs": []
    },
    {
      "cell_type": "code",
      "source": [],
      "metadata": {
        "id": "N76ZqlV9Z3tt"
      },
      "execution_count": null,
      "outputs": []
    },
    {
      "cell_type": "code",
      "source": [
        "import pandas as pd\n",
        "import numpy as np\n",
        "import matplotlib.pyplot as plt\n",
        "from sklearn.model_selection import train_test_split\n",
        "from sklearn.preprocessing import MinMaxScaler\n",
        "from tensorflow.keras.models import Sequential\n",
        "from tensorflow.keras.layers import LSTM, Dense\n",
        "from sklearn.metrics import mean_squared_error\n",
        "\n",
        "\n",
        "\n",
        "for lag in range(1, 31):\n",
        "    df5.loc[:, f'lag_{lag}'] = df5['Sensor Glucose (mg/dL)_df3'].shift(lag)\n",
        "\n",
        "\n",
        "df5 = df5.dropna()\n",
        "\n",
        "\n",
        "additional_features = ['ISIG Value_df3', 'Bolus Volume Delivered (U)_df4', 'BWZ Carb Ratio (g/U)_df4', 'BWZ Carb Input (grams)_df4']\n",
        "\n",
        "\n",
        "X = df5[[f'lag_{i}' for i in range(1, 31)] + additional_features]\n",
        "y = df5['Sensor Glucose (mg/dL)_df3']\n",
        "\n",
        "\n",
        "scaler = MinMaxScaler()\n",
        "X_scaled = scaler.fit_transform(X)\n",
        "\n",
        "\n",
        "num_features = X.shape[1]\n",
        "X_scaled = X_scaled.reshape((X_scaled.shape[0], 1, num_features))\n",
        "\n",
        "\n",
        "X_train, X_test, y_train, y_test = train_test_split(X_scaled, y, test_size=0.2, shuffle=False)\n",
        "\n",
        "\n",
        "model = Sequential()\n",
        "model.add(LSTM(units=50, return_sequences=True, input_shape=(X_train.shape[1], X_train.shape[2])))\n",
        "model.add(LSTM(units=50))\n",
        "model.add(Dense(1))\n",
        "\n",
        "\n",
        "model.compile(optimizer='adam', loss='mean_squared_error')\n",
        "\n",
        "\n",
        "history = model.fit(X_train, y_train, epochs=20, batch_size=32, validation_data=(X_test, y_test))\n",
        "\n",
        "y_train_pred = model.predict(X_train)\n",
        "y_test_pred = model.predict(X_test)\n",
        "\n",
        "train_rmse = np.sqrt(mean_squared_error(y_train, y_train_pred))\n",
        "test_rmse = np.sqrt(mean_squared_error(y_test, y_test_pred))\n",
        "\n",
        "print(f'Train RMSE: {train_rmse}')\n",
        "print(f'Test RMSE: {test_rmse}')\n",
        "\n",
        "plt.figure(figsize=(12, 6))\n",
        "plt.plot(y_test.values, label='Actual', color='blue')\n",
        "plt.plot(y_test_pred, label='Predicted', color='red', alpha=0.7)\n",
        "plt.title('Sensor Glucose Prediction with LSTM')\n",
        "plt.xlabel('Samples')\n",
        "plt.ylabel('Sensor Glucose (mg/dL)')\n",
        "plt.legend()\n",
        "plt.show()\n"
      ],
      "metadata": {
        "id": "kRxecvPU4umg"
      },
      "execution_count": null,
      "outputs": []
    }
  ]
}